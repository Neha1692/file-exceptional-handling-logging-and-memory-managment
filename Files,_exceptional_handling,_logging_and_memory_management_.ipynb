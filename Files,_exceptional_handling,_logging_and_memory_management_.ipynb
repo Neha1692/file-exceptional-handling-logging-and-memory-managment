{
  "nbformat": 4,
  "nbformat_minor": 0,
  "metadata": {
    "colab": {
      "provenance": []
    },
    "kernelspec": {
      "name": "python3",
      "display_name": "Python 3"
    },
    "language_info": {
      "name": "python"
    }
  },
  "cells": [
    {
      "cell_type": "code",
      "execution_count": null,
      "metadata": {
        "id": "VdVao1MkJZek"
      },
      "outputs": [],
      "source": []
    },
    {
      "cell_type": "markdown",
      "source": [
        "Q1-What is the difference between interpreted and compiled languages?\n",
        "\n",
        "\n",
        "Ans-Compiled language: The program is translated into machine code before execution, allowing the processor to execute it directly. Example:C,C++, and Java\n",
        "Interpreted languages: Instructions are executed directly without prior compilation into machine code. The source code is not directly translated by the target machine. Example: Python, Ruby and java script.\n",
        "\n",
        "Q2-What is exception handling in Python?\n",
        "\n",
        "Ans-Exeption handling is the process of responding to the occurence of exceptions during program execution. It helps prevent program crashes by gracefully managing errors. The try and except blocks are used to catch and handle exceptions.\n",
        "\n",
        "Q3-What is the purpose of the finally block in exception handling?\n",
        "\n",
        "Ans-The finally block is always executed regardless of whether an exception occured or not. It is used for cleanup actions, such as releasing resources or closing files.\n",
        "\n",
        "Q4-What is logging in Python?\n",
        "\n",
        "Ans-Logging is a way to track events that happen when a program runs. It is useful for debugging and monitoring applications.\n",
        "\n",
        "Q5- What is the significance of the __del__ method in Python?\n",
        "\n",
        "Ans-The __del__ method is a destructor method in python classes. It is called when an object is garbage collected.\n",
        "\n",
        "Q6- What is the difference between import and from ... import in Python?\n",
        "\n",
        "Ans-import module:Imports the entire module, and its functions or classes are accessed using module.function() or module.class().\n",
        "from module import item:Imports specific items (functions,classes) from a module, which can be accessed directly without the module prefix.\n",
        "\n",
        "Q7-How can you handle multiple exceptions in Python?\n",
        "\n",
        "Ans-Multiple except blocks can be used to handle different types of exceptions. A general execpt block can be used to catch any exception not caught by specific except blocks.\n",
        "\n",
        "Q8-What is the purpose of the with statement when handling files in Python?\n",
        "\n",
        "Ans-The with statement ensures that resources are properly managed by automatically closing them, even if exceptions occur.\n",
        "\n",
        "Q9-What is the difference between multithreading and multiprocessing?\n",
        "\n",
        "Ans-Multiple threads run within the same process, sharing the same memory space. It is suitable I/O- bound tasks.\n",
        "Multiple processes run independently, each with its own memory space. It is suitable for CPU-bound tasks.\n",
        "\n",
        "Q10- What are the advantages of using logging in a program?\n",
        "\n",
        "Ans-Advantages of logging:\n",
        " 1. Debugging: Logs help track program execution, identify errors and pinpoint problems, especially in complex applications.\n",
        " 2. Monitoring: Logs provide insights into program behaviour, allowing you to monitor performance and identify potentioal issues proactively.\n",
        " 3. Auditing: Logs can be used to track user actions and system events, useful for security and compliance purpose.\n",
        " 4. Configurability: Logging levels allow you to control the verbosity of logs and filter information.\n",
        "\n",
        "Q11- What is memory management in Python?\n",
        "\n",
        "Ans-Python uses a private heap for managing objects and data structures. The Python memory manager handles allocation, deallocation, and garbage collection.\n",
        "\n",
        "Q12- What are the basic steps involved in exception handling in Python?\n",
        "\n",
        "Ans-1. try Block:Encloses the code that might raise an exception.\n",
        "    2. except Block: Handles specific exceptions that may occur within the try block.\n",
        "\n",
        "\n",
        "Q13- Why is memory management important in Python?\n",
        "\n",
        "Ans-Memory management important in python for Performance, Resource Utilization, Program Stability, Debugging.\n",
        "\n",
        "Q14- What is the role of try and except in exception handling?\n",
        "\n",
        "Ans-The try block allows you to anticipate potential errors and handle them gracefully.\n",
        "The except block catches exceptions that occur within try block , preventing the program from crashing and allowing you to take corrective action.\n",
        "\n",
        "Q15- How does Python's garbage collection system work?\n",
        "\n",
        "Ans-Python's garbage collector uses reference counting to track the number of references to an object. When an object's reference count drops to zero, the garbage collector automatically frees the memory occupied by that object.Python also uses a cyclic garbage collector to handle circular references, where objects reference each other preventing memory leak.\n",
        "\n",
        "Q16- What is the purpose of the else block in exception handling?\n",
        "\n",
        "Ans-The else block in exception handling executes only if no exceptions are raised within the try block.It is used to execute code that should only run if the code in the try block executes successfully.\n",
        "\n",
        "Q17- What are the common logging levels in Python?\n",
        "\n",
        "Ans- DEBUG:Detailed information for debugging purposes.\n",
        "     INFO:General information about program execution.\n",
        "     WARNING:Indicates potential problems or issues.\n",
        "     ERROR:Indicates error that have occured.\n",
        "     CRITICAL:Indicates severe errors that may cause the program to fail.\n",
        "\n",
        "Q18- What is the difference between os.fork() and multiprocessing in Python?\n",
        "\n",
        "Ans-os.fork() creates a new process by duplicating the existing one, while multiprocessing provides a higher-level interface for creating and managing processes, offering better support for parallelism and avoiding some of the complexities of fork.\n",
        "\n",
        "Q19- What is the importance of closing a file in Python?\n",
        "\n",
        "Ans-Closing a file releases the resources held by the file object, ensuring that changes are written to disk and preventing potential data corruption or resource leaks.\n",
        "\n",
        "Q20- What is the difference between file.read() and file.readline() in Python?\n",
        "\n",
        "Ans-file.read() reads the entire file content of a file as a single string.\n",
        "file.readline() reads a single line from the file, including the newline character at the end.\n",
        "\n",
        "Q21- What is the logging module in Python used for?\n",
        "\n",
        "Ans-The logging module provides a flexible framework for emitting event messages from python programs, offering different severity levels and output options.It is used for tracking events that occur during the execution of software.\n",
        "\n",
        "Q22- What is the os module in Python used for in file handling?\n",
        "\n",
        "Ans-The OS module provides functions for interacting with the operating system, including file handling operations such as renaming, deleting, creating directories, and checking file existence.\n",
        "\n",
        "Q23- What are the challenges associated with memory management in Python?\n",
        "\n",
        "Ans-Challenges include memory leaks due to circular references the overhead of garbage collection, and the potential for high memory consumption in certain applications.\n",
        "\n",
        "Q24-How do you raise an exception manually in Python?\n",
        "\n",
        "Ans-Exception can be raised manually using the raise keyword, followed by the exception class or instance. for example:raise ValueError(\"invalid value)\n",
        "\n",
        "Q25-Why is it important to use multithreading in certain applications?\n",
        "\n",
        "Ans-Multithreading allows for concurrent exection of code, improving performance in applications that involve I/O operations, network requests, or tasks that can be parallelized. It can also enhance responsiveness in user interfaces by preventing blocking operations from freezing the application."
      ],
      "metadata": {
        "id": "I49zhZSsKAND"
      }
    },
    {
      "cell_type": "code",
      "source": [
        "#1 How can you open a file for writing in Python and write a string to it?\n",
        "file=open(\"file.txt\",\"w\")\n",
        "file.write(\"Hello World\")\n",
        "file.close()\n"
      ],
      "metadata": {
        "id": "O0NAM_wSyIUo"
      },
      "execution_count": null,
      "outputs": []
    },
    {
      "cell_type": "code",
      "source": [
        "#2 Write a python program to read the contents of a file and print each line.\n",
        "file=open(\"file.txt\",\"r\")\n",
        "print(file.read())\n",
        "file.close()"
      ],
      "metadata": {
        "colab": {
          "base_uri": "https://localhost:8080/"
        },
        "id": "C_3EGWhLye93",
        "outputId": "26f39bdf-0407-4bc1-c249-eb29cd72250a"
      },
      "execution_count": null,
      "outputs": [
        {
          "output_type": "stream",
          "name": "stdout",
          "text": [
            "Hello World\n"
          ]
        }
      ]
    },
    {
      "cell_type": "code",
      "source": [
        "#3 How would you handle a case where the file doesnot exist while trying to open it for reading?\n",
        "try:\n",
        "    file=open(\"file.txt\",\"r\")\n",
        "    print(file.read())\n",
        "    file.close()\n",
        "except FileNotFoundError:\n",
        "    print(\"File not found\")"
      ],
      "metadata": {
        "colab": {
          "base_uri": "https://localhost:8080/"
        },
        "id": "Jd5uL07HyvyX",
        "outputId": "df39c503-efcb-4817-a4f3-905feea84de8"
      },
      "execution_count": null,
      "outputs": [
        {
          "output_type": "stream",
          "name": "stdout",
          "text": [
            "Hello World\n"
          ]
        }
      ]
    },
    {
      "cell_type": "code",
      "source": [
        "#4 write a python script that reads from one file and writes its content to another file.\n",
        "import os\n",
        "\n",
        "# Get the current working directory\n",
        "current_directory = os.getcwd()\n",
        "\n",
        "# Construct the full path to the source file\n",
        "source_file_path = os.path.join(current_directory, \"source.txt\")\n",
        "\n",
        "try:\n",
        "    with open(source_file_path, \"r\") as source_file, open(\"destination.txt\", \"w\") as destination_file:\n",
        "        for line in source_file:\n",
        "            destination_file.write(line)\n",
        "except FileNotFoundError:\n",
        "    print(f\"File not found: {source_file_path}\")\n",
        "    print(\"Please make sure 'source.txt' exists in the current directory or provide the correct path.\")"
      ],
      "metadata": {
        "colab": {
          "base_uri": "https://localhost:8080/"
        },
        "id": "a_dM3Dh80D5W",
        "outputId": "33055ef4-39aa-4cf1-b9e3-8e2f145fe7fa"
      },
      "execution_count": null,
      "outputs": [
        {
          "output_type": "stream",
          "name": "stdout",
          "text": [
            "File not found: /content/source.txt\n",
            "Please make sure 'source.txt' exists in the current directory or provide the correct path.\n"
          ]
        }
      ]
    },
    {
      "cell_type": "code",
      "source": [
        "#5  How would you catch and handle division by zero error in Python?\n",
        "try:\n",
        "   result = 10/0\n",
        "   print(result)\n",
        "except ZeroDivisionError:\n",
        "   print(\"Error: Division by zero\")"
      ],
      "metadata": {
        "colab": {
          "base_uri": "https://localhost:8080/"
        },
        "id": "NBGdA0rv0Njt",
        "outputId": "8d207a06-5c10-4254-b9a2-0138977d8df5"
      },
      "execution_count": null,
      "outputs": [
        {
          "output_type": "stream",
          "name": "stdout",
          "text": [
            "Error: Division by zero\n"
          ]
        }
      ]
    },
    {
      "cell_type": "code",
      "source": [
        "#6 Write a Python program that logs an error message to a log file when a division by zero exception occursF\n",
        "import logging\n",
        "logging.basicConfig(filename=\"error.log\",level=logging.ERROR)\n",
        "try:\n",
        "    result=10/0\n",
        "except ZeroDivisionError:\n",
        "    logging.error(\"Error: Division by zero\")"
      ],
      "metadata": {
        "colab": {
          "base_uri": "https://localhost:8080/"
        },
        "id": "I6D8L3eX0i5w",
        "outputId": "44502456-1844-4b07-eb8a-af43d5f94d2b"
      },
      "execution_count": null,
      "outputs": [
        {
          "output_type": "stream",
          "name": "stderr",
          "text": [
            "ERROR:root:Error: Division by zero\n"
          ]
        }
      ]
    },
    {
      "cell_type": "code",
      "source": [
        "#7 How do you log information at different levels (INFO, ERROR, WARNING) in Python using the logging module?\n",
        "import logging\n",
        "logging.basicConfig(filename=\"log.txt\",level=logging.INFO)\n",
        "logging.info(\"This is an info message\")\n",
        "logging.warning(\"This is a warning message\")\n",
        "logging.error(\"This is an error message\")"
      ],
      "metadata": {
        "colab": {
          "base_uri": "https://localhost:8080/"
        },
        "id": "vzxrbJbz00R6",
        "outputId": "27e206a4-6b00-468d-b9ce-3f81599f3364"
      },
      "execution_count": null,
      "outputs": [
        {
          "output_type": "stream",
          "name": "stderr",
          "text": [
            "WARNING:root:This is a warning message\n",
            "ERROR:root:This is an error message\n"
          ]
        }
      ]
    },
    {
      "cell_type": "code",
      "source": [
        "#8 Write a program to handle a file opening error using exception handling\n",
        "try:\n",
        "    file=open(\"file.txt\",\"r\")\n",
        "    print(file.read())\n",
        "    file.close()\n",
        "except FileNotFoundError:\n",
        "    print(\"File not found\")\n"
      ],
      "metadata": {
        "colab": {
          "base_uri": "https://localhost:8080/"
        },
        "id": "-kyD87TZ1Sxk",
        "outputId": "238580fd-3a9b-476f-a8d0-66d7ad490477"
      },
      "execution_count": null,
      "outputs": [
        {
          "output_type": "stream",
          "name": "stdout",
          "text": [
            "Hello World\n"
          ]
        }
      ]
    },
    {
      "cell_type": "code",
      "source": [
        "#9 How can you read a file line by line and store its content in a list in Python?\n",
        "# Assuming you intend to use the 'file.txt' used previously\n",
        "try:\n",
        "    with open(\"file.txt\", \"r\") as file:\n",
        "        lines = file.readlines()\n",
        "\n",
        "    # Print the last line read\n",
        "    print(lines[-1])\n",
        "except FileNotFoundError:\n",
        "    print(\"File not found. Please make sure 'file.txt' is in the correct directory.\")"
      ],
      "metadata": {
        "colab": {
          "base_uri": "https://localhost:8080/"
        },
        "id": "udAN24p63c9-",
        "outputId": "3a4f6e76-9191-4710-a7ff-b2bb8f7cda93"
      },
      "execution_count": null,
      "outputs": [
        {
          "output_type": "stream",
          "name": "stdout",
          "text": [
            "Hello World\n"
          ]
        }
      ]
    },
    {
      "cell_type": "code",
      "source": [
        "#10 How can you append data to an existing file in Python?\n",
        "file = open(\"example.txt\",\"a\")\n",
        "file.write(\"This will be appended to the file.\")\n",
        "file.close()"
      ],
      "metadata": {
        "id": "9sMPBBaN3g6k"
      },
      "execution_count": null,
      "outputs": []
    },
    {
      "cell_type": "code",
      "source": [
        "#11 Write a Python program that uses a try-except block to handle an error when attempting to access a dictionary key that doesnot exist.\n",
        "my_dict = {\"a\": 1, \"b\": 2, \"c\": 3}\n",
        "try:\n",
        "  value = my_dict[\"d\"]\n",
        "except KeyError:\n",
        "  print(\" Key not found in dictionary\")"
      ],
      "metadata": {
        "colab": {
          "base_uri": "https://localhost:8080/"
        },
        "id": "ipo5Gv0Y33Rb",
        "outputId": "588db508-5a6f-4380-8820-9b1a79b2e003"
      },
      "execution_count": null,
      "outputs": [
        {
          "output_type": "stream",
          "name": "stdout",
          "text": [
            " Key not found in dictionary\n"
          ]
        }
      ]
    },
    {
      "cell_type": "code",
      "source": [
        "#12 Write a program that demonstrates using multiple except blocks to handle different types of exceptionsF\n",
        "\n",
        "try:\n",
        "  result = 10 / 0\n",
        "except ZeroDivisionError:\n",
        "  print(\"Error: Division by zero\")\n",
        "except ValueError:\n",
        "  print(\"Error: Invalid value\")\n",
        "except Exception as e:\n",
        "  print(f\"An unexpected error occurred: {e}\")"
      ],
      "metadata": {
        "colab": {
          "base_uri": "https://localhost:8080/"
        },
        "id": "qduAGi6a4SHi",
        "outputId": "def0cb00-df5b-42e2-e627-506990fa91f0"
      },
      "execution_count": null,
      "outputs": [
        {
          "output_type": "stream",
          "name": "stdout",
          "text": [
            "Error: Division by zero\n"
          ]
        }
      ]
    },
    {
      "cell_type": "code",
      "source": [
        "#13 How would you check if a file exists before attempting to read it in Python\n",
        "import os\n",
        "\n",
        "if os.path.exists('example.txt'):\n",
        "    with open('example.txt', 'r') as file:\n",
        "        content = file.read()\n",
        "        print(content)"
      ],
      "metadata": {
        "colab": {
          "base_uri": "https://localhost:8080/"
        },
        "id": "Zg21JLvg4e33",
        "outputId": "2c934626-25bf-4cb4-950c-dd15b784d0ee"
      },
      "execution_count": null,
      "outputs": [
        {
          "output_type": "stream",
          "name": "stdout",
          "text": [
            "This will be appended to the file.\n"
          ]
        }
      ]
    },
    {
      "cell_type": "code",
      "source": [
        "#14 Write a program that uses the logging module to log both informational and error messages.\n",
        "import logging\n",
        "\n",
        "logging.basicConfig(filename='example.log', level=logging.INFO)\n",
        "\n",
        "logging.info('This is an informational message')\n",
        "\n",
        "logging.error('This is an error message')"
      ],
      "metadata": {
        "colab": {
          "base_uri": "https://localhost:8080/"
        },
        "id": "g1IU9J4V4vPL",
        "outputId": "71451283-070b-4550-c060-b02a8980eee0"
      },
      "execution_count": null,
      "outputs": [
        {
          "output_type": "stream",
          "name": "stderr",
          "text": [
            "ERROR:root:This is an error message\n"
          ]
        }
      ]
    },
    {
      "cell_type": "code",
      "source": [
        "#15 Write a Python program that prints the content of a file and handles the case when the file is empty.\n",
        "\n",
        "import os\n",
        "\n",
        "file_path = \"example.txt\"\n",
        "\n",
        "if os.path.exists(file_path):\n",
        "    with open(file_path, 'r') as file:\n",
        "        content = file.read()\n",
        "        if content:\n",
        "            print(content)"
      ],
      "metadata": {
        "colab": {
          "base_uri": "https://localhost:8080/"
        },
        "id": "Nz0FCxor45Ar",
        "outputId": "c525369b-f3e0-4d5d-efeb-5f1135afbfbf"
      },
      "execution_count": null,
      "outputs": [
        {
          "output_type": "stream",
          "name": "stdout",
          "text": [
            "This will be appended to the file.\n"
          ]
        }
      ]
    },
    {
      "cell_type": "code",
      "source": [
        "#16 Demonstrate how to use memory profiling to check the memory usage of a small program\n",
        "\n",
        "import memory_profiler\n",
        "\n",
        "@memory_profiler.profile\n",
        "def my_function():\n",
        "  a = [1] * 100000\n",
        "  b = [2] * 200000\n",
        "  del b\n",
        "  return a\n",
        "\n",
        "if __name__ == \"__main__\":\n",
        "  my_function()"
      ],
      "metadata": {
        "colab": {
          "base_uri": "https://localhost:8080/",
          "height": 401
        },
        "id": "fO8mn-Pp5Tqn",
        "outputId": "3b5fdae9-5cec-4f31-f3ca-4fe7601704f5"
      },
      "execution_count": null,
      "outputs": [
        {
          "output_type": "error",
          "ename": "ModuleNotFoundError",
          "evalue": "No module named 'memory_profiler'",
          "traceback": [
            "\u001b[0;31m---------------------------------------------------------------------------\u001b[0m",
            "\u001b[0;31mModuleNotFoundError\u001b[0m                       Traceback (most recent call last)",
            "\u001b[0;32m<ipython-input-38-3e7c045a58b6>\u001b[0m in \u001b[0;36m<cell line: 0>\u001b[0;34m()\u001b[0m\n\u001b[1;32m      1\u001b[0m \u001b[0;31m#16 Demonstrate how to use memory profiling to check the memory usage of a small program\u001b[0m\u001b[0;34m\u001b[0m\u001b[0;34m\u001b[0m\u001b[0m\n\u001b[1;32m      2\u001b[0m \u001b[0;34m\u001b[0m\u001b[0m\n\u001b[0;32m----> 3\u001b[0;31m \u001b[0;32mimport\u001b[0m \u001b[0mmemory_profiler\u001b[0m\u001b[0;34m\u001b[0m\u001b[0;34m\u001b[0m\u001b[0m\n\u001b[0m\u001b[1;32m      4\u001b[0m \u001b[0;34m\u001b[0m\u001b[0m\n\u001b[1;32m      5\u001b[0m \u001b[0;34m@\u001b[0m\u001b[0mmemory_profiler\u001b[0m\u001b[0;34m.\u001b[0m\u001b[0mprofile\u001b[0m\u001b[0;34m\u001b[0m\u001b[0;34m\u001b[0m\u001b[0m\n",
            "\u001b[0;31mModuleNotFoundError\u001b[0m: No module named 'memory_profiler'",
            "",
            "\u001b[0;31m---------------------------------------------------------------------------\u001b[0;32m\nNOTE: If your import is failing due to a missing package, you can\nmanually install dependencies using either !pip or !apt.\n\nTo view examples of installing some common dependencies, click the\n\"Open Examples\" button below.\n\u001b[0;31m---------------------------------------------------------------------------\u001b[0m\n"
          ],
          "errorDetails": {
            "actions": [
              {
                "action": "open_url",
                "actionText": "Open Examples",
                "url": "/notebooks/snippets/importing_libraries.ipynb"
              }
            ]
          }
        }
      ]
    },
    {
      "cell_type": "code",
      "source": [
        "#17 Write a Python program to create and write a list of numbers to a file, one number per line\n",
        "\n",
        "numbers = [1,2,3,4,5]\n",
        "with open(\"numbers.txt\",\"w\") as file:\n",
        "    for number in numbers:\n",
        "        file.write(str(number)+\"\\n\")"
      ],
      "metadata": {
        "id": "3LikR1x08X3g"
      },
      "execution_count": null,
      "outputs": []
    },
    {
      "cell_type": "code",
      "source": [
        "#18  How would you implement a basic logging setup that logs to a file with rotation after 1MB?\n",
        "import logging\n",
        "from logging.handlers import RotatingFileHandler\n",
        "\n",
        "# Create a logger\n",
        "logger = logging.getLogger(\"my_logger\")\n",
        "logger.setLevel"
      ],
      "metadata": {
        "colab": {
          "base_uri": "https://localhost:8080/",
          "height": 121
        },
        "id": "4TfFDyIL9YCV",
        "outputId": "01ac4775-87de-4039-8f27-fc1a93226413"
      },
      "execution_count": null,
      "outputs": [
        {
          "output_type": "execute_result",
          "data": {
            "text/plain": [
              "<bound method Logger.setLevel of <Logger my_logger (WARNING)>>"
            ],
            "text/html": [
              "<div style=\"max-width:800px; border: 1px solid var(--colab-border-color);\"><style>\n",
              "      pre.function-repr-contents {\n",
              "        overflow-x: auto;\n",
              "        padding: 8px 12px;\n",
              "        max-height: 500px;\n",
              "      }\n",
              "\n",
              "      pre.function-repr-contents.function-repr-contents-collapsed {\n",
              "        cursor: pointer;\n",
              "        max-height: 100px;\n",
              "      }\n",
              "    </style>\n",
              "    <pre style=\"white-space: initial; background:\n",
              "         var(--colab-secondary-surface-color); padding: 8px 12px;\n",
              "         border-bottom: 1px solid var(--colab-border-color);\"><b>logging.Logger.setLevel</b><br/>def setLevel(level)</pre><pre class=\"function-repr-contents function-repr-contents-collapsed\" style=\"\"><a class=\"filepath\" style=\"display:none\" href=\"#\">/usr/lib/python3.11/logging/__init__.py</a>Set the logging level of this logger.  level must be an int or a str.</pre>\n",
              "      <script>\n",
              "      if (google.colab.kernel.accessAllowed && google.colab.files && google.colab.files.view) {\n",
              "        for (const element of document.querySelectorAll('.filepath')) {\n",
              "          element.style.display = 'block'\n",
              "          element.onclick = (event) => {\n",
              "            event.preventDefault();\n",
              "            event.stopPropagation();\n",
              "            google.colab.files.view(element.textContent, 1460);\n",
              "          };\n",
              "        }\n",
              "      }\n",
              "      for (const element of document.querySelectorAll('.function-repr-contents')) {\n",
              "        element.onclick = (event) => {\n",
              "          event.preventDefault();\n",
              "          event.stopPropagation();\n",
              "          element.classList.toggle('function-repr-contents-collapsed');\n",
              "        };\n",
              "      }\n",
              "      </script>\n",
              "      </div>"
            ]
          },
          "metadata": {},
          "execution_count": 40
        }
      ]
    },
    {
      "cell_type": "code",
      "source": [
        "#19 Write a program that handles both IndexError and KeyError using a try-except block\n",
        "my_list = [1, 2, 3]\n",
        "my_dict = {\"a\": 1, \"b\": 2, \"c\": 3}\n",
        "\n",
        "try:\n",
        "  print(my_list[3])\n",
        "except IndexError:\n",
        "  print(\"Error: Index out of range\")\n",
        "except KeyError:\n",
        "  print(\"Error: Key not found in dictionary\")"
      ],
      "metadata": {
        "colab": {
          "base_uri": "https://localhost:8080/"
        },
        "id": "OTTof7SA9uVj",
        "outputId": "6993c72e-b70f-40ed-98cc-5a95ac2e68b8"
      },
      "execution_count": null,
      "outputs": [
        {
          "output_type": "stream",
          "name": "stdout",
          "text": [
            "Error: Index out of range\n"
          ]
        }
      ]
    },
    {
      "cell_type": "code",
      "source": [
        "#20 How would you open a file and read its contents using a context manager in Python\n",
        "with open(\"example.txt\", \"r\") as file:\n",
        "  content = file.read()\n",
        "  print(content)"
      ],
      "metadata": {
        "colab": {
          "base_uri": "https://localhost:8080/"
        },
        "id": "PLyHFVvx9uy5",
        "outputId": "89d9f0de-8b35-4d76-9830-fdafa2f813fd"
      },
      "execution_count": null,
      "outputs": [
        {
          "output_type": "stream",
          "name": "stdout",
          "text": [
            "This will be appended to the file.\n"
          ]
        }
      ]
    },
    {
      "cell_type": "code",
      "source": [
        "#21 Write a Python program that reads a file and prints the number of occurrences of a specific wordF\n",
        "def count_word_occurrences(filename, word):\n",
        "  with open(filename, \"r\") as file:\n",
        "    content = file.read()\n",
        "    count = content.lower().count(word.lower())\n",
        "    return count\n",
        "\n",
        "filename = \"example.txt\"\n",
        "word = \"Python\"\n",
        "occurrences = count_word_occurrences(filename, word)\n",
        "print(f\"The word '{word}' appears {occurrences} times in the file.\")"
      ],
      "metadata": {
        "colab": {
          "base_uri": "https://localhost:8080/"
        },
        "id": "WzdWJV569u2d",
        "outputId": "cf50aa40-d1b2-403e-a566-0dd61a6c23b1"
      },
      "execution_count": null,
      "outputs": [
        {
          "output_type": "stream",
          "name": "stdout",
          "text": [
            "The word 'Python' appears 0 times in the file.\n"
          ]
        }
      ]
    },
    {
      "cell_type": "code",
      "source": [
        "#22  How can you check if a file is empty before attempting to read its contents\n",
        "import os\n",
        "\n",
        "file_path = \"example.txt\"\n",
        "\n",
        "if os.path.exists(file_path):\n",
        "    if os.path.getsize(file_path) > 0:\n",
        "        with open(file_path, 'r') as file:\n",
        "            content"
      ],
      "metadata": {
        "id": "gdxJ9w-GHtuO"
      },
      "execution_count": null,
      "outputs": []
    },
    {
      "cell_type": "code",
      "source": [
        "#23 Write a Python program that writes to a log file when an error occurs during file handling.\n",
        "import logging\n",
        "logging.basicConfig(filename='file_handling_errors.log', level=logging.ERROR, format='%(asctime)s - %(levelname)s - %(message)s')\n",
        "\n",
        "try:\n",
        "    with open('nonexistent_file.txt', 'r') as file:\n",
        "        content = file.read()\n",
        "except FileNotFoundError:\n",
        "    logging.error('File not found: nonexistent_file.txt')\n",
        "\n",
        "\n"
      ],
      "metadata": {
        "colab": {
          "base_uri": "https://localhost:8080/"
        },
        "id": "n1v8tNfGH31r",
        "outputId": "884c5cd7-f940-4502-a2f8-393020747e16"
      },
      "execution_count": null,
      "outputs": [
        {
          "output_type": "stream",
          "name": "stderr",
          "text": [
            "ERROR:root:File not found: nonexistent_file.txt\n"
          ]
        }
      ]
    },
    {
      "cell_type": "code",
      "source": [],
      "metadata": {
        "id": "JreEOR7yIr7t"
      },
      "execution_count": null,
      "outputs": []
    }
  ]
}